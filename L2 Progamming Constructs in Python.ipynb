{
 "cells": [
  {
   "cell_type": "markdown",
   "metadata": {},
   "source": [
    "## LAB 02\n"
   ]
  },
  {
   "cell_type": "markdown",
   "metadata": {},
   "source": [
    "## Q1\n"
   ]
  },
  {
   "cell_type": "code",
   "execution_count": 1,
   "metadata": {},
   "outputs": [
    {
     "name": "stdout",
     "output_type": "stream",
     "text": [
      "Enter a number:2\n",
      "{0} is even\n"
     ]
    }
   ],
   "source": [
    "num=int(input(\"Enter a number:\"))\n",
    "if (num % 2) == 0:\n",
    "    print(\"{0} is even\")\n",
    "else:    \n",
    "        print(\"{0} is odd\")"
   ]
  },
  {
   "cell_type": "code",
   "execution_count": 2,
   "metadata": {},
   "outputs": [
    {
     "name": "stdout",
     "output_type": "stream",
     "text": [
      "Enter a number:7\n",
      "{0} is odd\n"
     ]
    }
   ],
   "source": [
    "num=int(input(\"Enter a number:\"))\n",
    "if (num % 2) == 0:\n",
    "    print(\"{0} is even\")\n",
    "else:    \n",
    "        print(\"{0} is odd\")\n",
    "        "
   ]
  },
  {
   "cell_type": "markdown",
   "metadata": {},
   "source": [
    "## Q2\n"
   ]
  },
  {
   "cell_type": "code",
   "execution_count": 3,
   "metadata": {},
   "outputs": [
    {
     "name": "stdout",
     "output_type": "stream",
     "text": [
      "2000 is a leap year\n"
     ]
    }
   ],
   "source": [
    "year = 2000\n",
    "if (year % 4) == 0:\n",
    "   if (year % 100) == 0:\n",
    "       if (year % 400) == 0:\n",
    "           print(\"{0} is a leap year\".format(year))\n",
    "       else:\n",
    "           print(\"{0} is not a leap year\".format(year))\n",
    "   else:\n",
    "       print(\"{0} is a leap year\".format(year))\n",
    "else:\n",
    "   print(\"{0} is not a leap year\".format(year))"
   ]
  },
  {
   "cell_type": "code",
   "execution_count": 9,
   "metadata": {},
   "outputs": [
    {
     "name": "stdout",
     "output_type": "stream",
     "text": [
      "2007\n",
      "2007 is not a leap year\n"
     ]
    }
   ],
   "source": [
    "year=int(input())\n",
    "if (year % 4) == 0:\n",
    "   if (year % 100) == 0:\n",
    "       if (year % 400) == 0:\n",
    "           print(\"{0} is a leap year\".format(year))\n",
    "       else:\n",
    "           print(\"{0} is not a leap year\".format(year))\n",
    "   else:\n",
    "       print(\"{0} is a leap year\".format(year))\n",
    "else:\n",
    "   print(\"{0} is not a leap year\".format(year))"
   ]
  },
  {
   "cell_type": "markdown",
   "metadata": {},
   "source": [
    "## Q3"
   ]
  },
  {
   "cell_type": "code",
   "execution_count": 7,
   "metadata": {},
   "outputs": [
    {
     "name": "stdout",
     "output_type": "stream",
     "text": [
      "please enter a character:a\n",
      "the given character a is a vowel\n"
     ]
    }
   ],
   "source": [
    "c=input(\"please enter a character:\")\n",
    "if(c==\"a\" or c==\"e\" or c==\"i\" or c==\"o\" or c==\"u\" or c==\"A\" or c==\"E\" or c==\"I\" or c==\"O\" or c==\"U\"):\n",
    "    print(\"the given character\",c,\"is a vowel\")\n",
    "else:\n",
    "    print(\"the given character\",c,\"is a consonant\")"
   ]
  },
  {
   "cell_type": "code",
   "execution_count": 8,
   "metadata": {},
   "outputs": [
    {
     "name": "stdout",
     "output_type": "stream",
     "text": [
      "please enter a character:f\n",
      "the given character f is a consonant\n"
     ]
    }
   ],
   "source": [
    "c=input(\"please enter a character:\")\n",
    "if(c==\"a\" or c==\"e\" or c==\"i\" or c==\"o\" or c==\"u\" or c==\"A\" or c==\"E\" or c==\"I\" or c==\"O\" or c==\"U\"):\n",
    "    print(\"the given character\",c,\"is a vowel\")\n",
    "else:\n",
    "    print(\"the given character\",c,\"is a consonant\")"
   ]
  },
  {
   "cell_type": "markdown",
   "metadata": {},
   "source": [
    "## Q4"
   ]
  },
  {
   "cell_type": "code",
   "execution_count": 10,
   "metadata": {},
   "outputs": [
    {
     "name": "stdout",
     "output_type": "stream",
     "text": [
      "Enter your first number:2\n",
      "Enter your second number: 5\n",
      "2 is smallest\n"
     ]
    }
   ],
   "source": [
    "num1=int(input(\"Enter your first number:\"))\n",
    "num2=int(input(\"Enter your second number: \"))\n",
    "if(num1<num2):\n",
    "    print(\"{} is smallest\".format(num1))\n",
    "elif(num2<num1):\n",
    "    print(\"{} is smallest\".format(num2))\n",
    "else:\n",
    "    print(\"{} and {} are equal\".format(num1,num2))\n",
    "    "
   ]
  },
  {
   "cell_type": "markdown",
   "metadata": {},
   "source": [
    "## Q5"
   ]
  },
  {
   "cell_type": "code",
   "execution_count": 11,
   "metadata": {},
   "outputs": [
    {
     "name": "stdout",
     "output_type": "stream",
     "text": [
      "The factorial of 7 is 5040\n"
     ]
    }
   ],
   "source": [
    "num = 7\n",
    "factorial = 1\n",
    "if num < 0:\n",
    "   print(\"Sorry, factorial does not exist for negative numbers\")\n",
    "elif num == 0:\n",
    "   print(\"The factorial of 0 is 1\")\n",
    "else:\n",
    "   for i in range(1,num + 1):\n",
    "       factorial = factorial*i\n",
    "   print(\"The factorial of\",num,\"is\",factorial)"
   ]
  },
  {
   "cell_type": "code",
   "execution_count": 13,
   "metadata": {},
   "outputs": [
    {
     "name": "stdout",
     "output_type": "stream",
     "text": [
      "Sorry, factorial does not exist for negative numbers\n"
     ]
    }
   ],
   "source": [
    "num = -1\n",
    "factorial = 1\n",
    "if num < 0:\n",
    "   print(\"Sorry, factorial does not exist for negative numbers\")\n",
    "elif num == 0:\n",
    "   print(\"The factorial of 0 is 1\")\n",
    "else:\n",
    "   for i in range(1,num + 1):\n",
    "       factorial = factorial*i\n",
    "   print(\"The factorial of\",num,\"is\",factorial)"
   ]
  },
  {
   "cell_type": "markdown",
   "metadata": {},
   "source": [
    "## Q6"
   ]
  },
  {
   "cell_type": "code",
   "execution_count": 20,
   "metadata": {},
   "outputs": [
    {
     "name": "stdout",
     "output_type": "stream",
     "text": [
      "      *  \n",
      "     * *  \n",
      "    * * *  \n",
      "   * * * *  \n"
     ]
    }
   ],
   "source": [
    "size= 4\n",
    "a=(2*size)-2\n",
    "\n",
    "for i in range (0,size):\n",
    "    for j in range (0,a):\n",
    "        print(end=\" \")\n",
    "    a=a-1\n",
    "    for j in range (0,i+1):\n",
    "        print(\"*\",end=' ')\n",
    "    print(\" \")\n",
    "        "
   ]
  },
  {
   "cell_type": "markdown",
   "metadata": {},
   "source": [
    "## Q7\n"
   ]
  },
  {
   "cell_type": "code",
   "execution_count": 2,
   "metadata": {},
   "outputs": [
    {
     "name": "stdout",
     "output_type": "stream",
     "text": [
      "20 14 8 2 -4 2 8 14 20 "
     ]
    }
   ],
   "source": [
    "\n",
    "\n",
    "def PrintNumber(N, Original, K, flag): \n",
    "\n",
    "\tprint(N, end = \" \") \n",
    "\t\n",
    "\t\n",
    "\t\n",
    "\tif (N <= 0): \n",
    "\t\tif(flag==0): \n",
    "\t         flag = 1\n",
    "\t\telse: \n",
    "\t\t\tflag = 0\n",
    "\t\t\n",
    "\t\n",
    "\t\n",
    "\tif (N == Original and (not(flag))): \n",
    "\t\treturn\n",
    "\t\n",
    "\n",
    "\tif (flag == True): \n",
    "\t\tPrintNumber(N - K, Original, K, flag) \n",
    "\t\treturn\n",
    "\t\n",
    "\n",
    "\tif (not(flag)): \n",
    "\t\tPrintNumber(N + K, Original, K, flag); \n",
    "\t\treturn\n",
    "\t\n",
    "N = 20\n",
    "K = 6\n",
    "PrintNumber(N, N, K, True) "
   ]
  },
  {
   "cell_type": "markdown",
   "metadata": {},
   "source": [
    "## Q8"
   ]
  },
  {
   "cell_type": "code",
   "execution_count": 9,
   "metadata": {},
   "outputs": [
    {
     "name": "stdout",
     "output_type": "stream",
     "text": [
      "Enter a number: 7\n",
      "7 is a prime number\n"
     ]
    }
   ],
   "source": [
    "num = 407\n",
    "num = int(input(\"Enter a number: \"))\n",
    "if num > 1:\n",
    "  \n",
    "   for i in range(2,num):\n",
    "       if (num % i) == 0:\n",
    "           print(num,\"is not a prime number\")\n",
    "           print(i,\"times\",num//i,\"is\",num)\n",
    "           break\n",
    "   else:\n",
    "       print(num,\"is a prime number\")\n",
    "else:\n",
    "    \n",
    "       print(num,\"is not a prime number\")"
   ]
  },
  {
   "cell_type": "markdown",
   "metadata": {},
   "source": [
    "## Q9"
   ]
  },
  {
   "cell_type": "code",
   "execution_count": 10,
   "metadata": {},
   "outputs": [
    {
     "name": "stdout",
     "output_type": "stream",
     "text": [
      "Select operation.\n",
      "1.Add\n",
      "2.Subtract\n",
      "3.Multiply\n",
      "4.Divide\n",
      "Enter choice(1/2/3/4): 1\n",
      "Enter first number: 12\n",
      "Enter second number: 12\n",
      "12.0 + 12.0 = 24.0\n"
     ]
    }
   ],
   "source": [
    "def add(x, y):\n",
    "   return x + y\n",
    "\n",
    "def subtract(x, y):\n",
    "   return x - y\n",
    "\n",
    "def multiply(x, y):\n",
    "   return x * y\n",
    "\n",
    "def divide(x, y):\n",
    "   return x / y\n",
    "print(\"Select operation.\")\n",
    "print(\"1.Add\")\n",
    "print(\"2.Subtract\")\n",
    "print(\"3.Multiply\")\n",
    "print(\"4.Divide\")\n",
    " \n",
    "choice = input(\"Enter choice(1/2/3/4): \")\n",
    "num1 = float(input(\"Enter first number: \"))\n",
    "num2 = float(input(\"Enter second number: \"))\n",
    "if choice == '1':\n",
    "   print(num1,\"+\",num2,\"=\", add(num1,num2))\n",
    "elif choice == '2':\n",
    "   print(num1,\"-\",num2,\"=\", subtract(num1,num2))\n",
    "elif choice == '3':\n",
    "   print(num1,\"*\",num2,\"=\", multiply(num1,num2))\n",
    "elif choice == '4':\n",
    "   print(num1,\"/\",num2,\"=\", divide(num1,num2))\n",
    "else:\n",
    "   print(\"Invalid input\")"
   ]
  },
  {
   "cell_type": "code",
   "execution_count": null,
   "metadata": {},
   "outputs": [],
   "source": []
  }
 ],
 "metadata": {
  "kernelspec": {
   "display_name": "Python 3",
   "language": "python",
   "name": "python3"
  },
  "language_info": {
   "codemirror_mode": {
    "name": "ipython",
    "version": 3
   },
   "file_extension": ".py",
   "mimetype": "text/x-python",
   "name": "python",
   "nbconvert_exporter": "python",
   "pygments_lexer": "ipython3",
   "version": "3.7.4"
  }
 },
 "nbformat": 4,
 "nbformat_minor": 2
}
